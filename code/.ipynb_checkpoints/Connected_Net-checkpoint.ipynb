{
 "cells": [
  {
   "cell_type": "markdown",
   "metadata": {},
   "source": [
    "MODEL SPECIFICATION:"
   ]
  },
  {
   "cell_type": "code",
   "execution_count": 1,
   "metadata": {},
   "outputs": [],
   "source": [
    "# Variables\n",
    "train_size = 4000\n",
    "shuffle_buffer = 100000\n",
    "initial_learning_rate = 0.95\n",
    "total_epochs = 6000\n",
    "num_classes = 10"
   ]
  },
  {
   "cell_type": "code",
   "execution_count": 2,
   "metadata": {},
   "outputs": [],
   "source": [
    "import warnings\n",
    "warnings.filterwarnings('ignore')"
   ]
  },
  {
   "cell_type": "code",
   "execution_count": 3,
   "metadata": {},
   "outputs": [],
   "source": [
    "import tensorflow as tf"
   ]
  },
  {
   "cell_type": "code",
   "execution_count": 4,
   "metadata": {},
   "outputs": [],
   "source": [
    "#Early stopping spec\n",
    "earlystop_callback = tf.keras.callbacks.EarlyStopping(monitor='loss', patience=1)\n",
    "#Learning schedule\n",
    "lr_schedule = tf.keras.optimizers.schedules.ExponentialDecay(\n",
    "    initial_learning_rate,\n",
    "    decay_steps=500,\n",
    "    decay_rate=0.90,\n",
    "    staircase=True)\n"
   ]
  },
  {
   "cell_type": "code",
   "execution_count": 5,
   "metadata": {},
   "outputs": [],
   "source": [
    "import utils as tl"
   ]
  },
  {
   "cell_type": "markdown",
   "metadata": {},
   "source": [
    "## We download the MNIST Data from TF"
   ]
  },
  {
   "cell_type": "code",
   "execution_count": 6,
   "metadata": {},
   "outputs": [],
   "source": [
    "(x_train, y_train), (x_test, y_test) = tf.keras.datasets.mnist.load_data()"
   ]
  },
  {
   "cell_type": "code",
   "execution_count": 7,
   "metadata": {},
   "outputs": [],
   "source": [
    "x_train = x_train[-train_size:]\n",
    "y_train = y_train[-train_size:]"
   ]
  },
  {
   "cell_type": "markdown",
   "metadata": {},
   "source": [
    "MNIST data are 28x28 grayscale images. Each pixel can get a value from 0 to 255 thus we divide by 255 to normalise to 1."
   ]
  },
  {
   "cell_type": "code",
   "execution_count": 8,
   "metadata": {},
   "outputs": [],
   "source": [
    "#We normalise the data\n",
    "x_train = x_train / 255\n",
    "x_test = x_test / 255"
   ]
  },
  {
   "cell_type": "code",
   "execution_count": 9,
   "metadata": {},
   "outputs": [],
   "source": [
    "# Convert to \"one-hot\" vectors using the to_categorical function\n",
    "y_train = tf.keras.utils.to_categorical(y_train, num_classes)\n",
    "y_test = tf.keras.utils.to_categorical(y_test, num_classes)"
   ]
  },
  {
   "cell_type": "code",
   "execution_count": 10,
   "metadata": {},
   "outputs": [],
   "source": [
    "train_ds = tf.data.Dataset.from_tensor_slices((x_train,y_train)).shuffle(shuffle_buffer).take(train_size)\n",
    "test_ds = tf.data.Dataset.from_tensor_slices((x_test, y_test))"
   ]
  },
  {
   "cell_type": "markdown",
   "metadata": {},
   "source": [
    "## We train the Neural Networks according to the paper specifications"
   ]
  },
  {
   "cell_type": "code",
   "execution_count": 11,
   "metadata": {},
   "outputs": [],
   "source": [
    "parameter_size = [3000, 5000, 10000, 20000, \n",
    "                  22000, 25000, 27000, 30000, 32000, 35000, 37000,\n",
    "                40000, 50000, 60000, 70000, 80000, 100000, 300000, 800000]"
   ]
  },
  {
   "cell_type": "markdown",
   "metadata": {},
   "source": [
    "We need to compute the number of hidden units $H$ corresponding to each parameter $w$.\n",
    "\n",
    "$$ H  = \\frac{w-K}{d+K+1} $$\n",
    "\n",
    "where $d=784$ is the dimension of the input layer and $K=10$ that of the output layer. We also recall that the interpolation threshold can be found by \n",
    "\n",
    "$$ n\\times K = 4\\cdot 10^{3} \\times 10= 4\\cdot 10^{4}$$."
   ]
  },
  {
   "cell_type": "code",
   "execution_count": 12,
   "metadata": {},
   "outputs": [],
   "source": [
    "input_size = 784 #28*28\n",
    "interpol_threshold = num_classes * train_size"
   ]
  },
  {
   "cell_type": "code",
   "execution_count": 13,
   "metadata": {},
   "outputs": [],
   "source": [
    "sgd_optimizer = tf.keras.optimizers.SGD()#(learning_rate=lr_schedule)"
   ]
  },
  {
   "cell_type": "markdown",
   "metadata": {},
   "source": [
    "Here we use the following empirical risk\n",
    "\n",
    "$$ \\frac{1}{n} \\sum_{i=1}^{n}l(h(x_{i}),y_{i})$$\n",
    "\n",
    "where $l(y',y) = (y'-y)^{2}$ is the squared loss function and $h(x)$ is our fully connected network."
   ]
  },
  {
   "cell_type": "code",
   "execution_count": 14,
   "metadata": {},
   "outputs": [],
   "source": [
    "train_loss = tf.keras.losses.MeanSquaredError(name = \"train_loss\")"
   ]
  },
  {
   "cell_type": "code",
   "execution_count": 15,
   "metadata": {},
   "outputs": [],
   "source": [
    "networks = []"
   ]
  },
  {
   "cell_type": "code",
   "execution_count": 16,
   "metadata": {},
   "outputs": [
    {
     "name": "stdout",
     "output_type": "stream",
     "text": [
      "Completed 3000\n",
      "Completed 5000\n",
      "Completed 10000\n",
      "Completed 20000\n",
      "Completed 22000\n",
      "Completed 25000\n",
      "Completed 27000\n",
      "Completed 30000\n",
      "Completed 32000\n",
      "Completed 35000\n",
      "Completed 37000\n",
      "Completed 40000\n",
      "Completed 50000\n",
      "Completed 60000\n",
      "Completed 70000\n",
      "Completed 80000\n",
      "Completed 100000\n",
      "Completed 300000\n",
      "Completed 800000\n"
     ]
    }
   ],
   "source": [
    "for parameters in parameter_size:\n",
    "    #Custom initialization\n",
    "    units = tl.get_number_units(parameters, input_size = input_size, output_size = num_classes)\n",
    "    if units == 3000:\n",
    "        network = tf.keras.models.Sequential([\n",
    "        #We flatten the images to vector of size 784\n",
    "        tf.keras.layers.Flatten(input_shape=(28, 28)),\n",
    "        tf.keras.layers.Dense(units=units, activation = None),\n",
    "        tf.keras.layers.Dense(units=num_classes,  activation = None)\n",
    "        ])\n",
    "    elif units <= interpol_threshold and units > 3000 :\n",
    "        network = tf.keras.models.Sequential([\n",
    "        tf.keras.layers.Flatten(input_shape=(28, 28)),\n",
    "        tf.keras.layers.Dense(units=units, bias_initializer = tf.constant_initializer(tl.custom_bias(units,hidden_bias_wgts)),\n",
    "                              kernel_initializer = tf.constant_initializer(tl.custom_kernel(units,hidden_kernel_wgts)),  activation = None),\n",
    "        tf.keras.layers.Dense(units=num_classes, bias_initializer = tf.constant_initializer(tl.custom_bias(units,hidden_bias_wgts)),\n",
    "                              kernel_initializer = tf.constant_initializer(tl.custom_kernel(units,hidden_kernel_wgts)),  activation = None)])\n",
    "    else:\n",
    "        network = tf.keras.models.Sequential([\n",
    "        tf.keras.layers.Flatten(input_shape=(28, 28)),\n",
    "        tf.keras.layers.Dense(units=units, activation = None),\n",
    "        tf.keras.layers.Dense(units=num_classes,  activation = None)])\n",
    "    networks.append(tl.Training(parameters, network))\n",
    "    #Training\n",
    "    networks[-1].compile(optimizer =sgd_optimizer, loss = train_loss , metrics = ['accuracy'])\n",
    "    networks[-1].fit(x=x_train, y=y_train, callbacks=[earlystop_callback], epochs=total_epochs, verbose = 0)\n",
    "    if units <= interpol_threshold:\n",
    "        hidden_kernel_wgts = networks[-1].get_network().get_weights()[0]\n",
    "        hidden_bias_wgts = networks[-1].get_network().get_weights()[1]\n",
    "        output_kernel_wgts = networks[-1].get_network().get_weights()[2]\n",
    "        output_bias_wgts = networks[-1].get_network().get_weights()[3]\n",
    "    print(\"Completed {}\".format(parameters))"
   ]
  },
  {
   "cell_type": "code",
   "execution_count": 17,
   "metadata": {},
   "outputs": [],
   "source": [
    "import matplotlib.pyplot as plt"
   ]
  },
  {
   "cell_type": "code",
   "execution_count": 18,
   "metadata": {},
   "outputs": [],
   "source": [
    "train_score = []\n",
    "test_score = []\n",
    "train_accuracy = []\n",
    "test_accuracy = []"
   ]
  },
  {
   "cell_type": "code",
   "execution_count": 19,
   "metadata": {},
   "outputs": [
    {
     "name": "stdout",
     "output_type": "stream",
     "text": [
      "4000/4000 - 0s - loss: 0.0679 - accuracy: 0.4150\n",
      "10000/10000 - 1s - loss: 0.0712 - accuracy: 0.3924\n",
      "4000/4000 - 0s - loss: 0.0475 - accuracy: 0.7042\n",
      "10000/10000 - 1s - loss: 0.0530 - accuracy: 0.6602\n",
      "4000/4000 - 0s - loss: 0.0345 - accuracy: 0.9038\n",
      "10000/10000 - 1s - loss: 0.0432 - accuracy: 0.8381\n",
      "4000/4000 - 0s - loss: 0.0356 - accuracy: 0.8957\n",
      "10000/10000 - 1s - loss: 0.0446 - accuracy: 0.8287\n",
      "4000/4000 - 0s - loss: 0.0340 - accuracy: 0.9000\n",
      "10000/10000 - 1s - loss: 0.0433 - accuracy: 0.8370\n",
      "4000/4000 - 0s - loss: 0.0348 - accuracy: 0.8982\n",
      "10000/10000 - 1s - loss: 0.0440 - accuracy: 0.8360\n",
      "4000/4000 - 0s - loss: 0.0350 - accuracy: 0.9000\n",
      "10000/10000 - 1s - loss: 0.0440 - accuracy: 0.8313\n",
      "4000/4000 - 0s - loss: 0.0349 - accuracy: 0.9025\n",
      "10000/10000 - 1s - loss: 0.0441 - accuracy: 0.8327\n",
      "4000/4000 - 0s - loss: 0.0342 - accuracy: 0.9043\n",
      "10000/10000 - 1s - loss: 0.0436 - accuracy: 0.8346\n",
      "4000/4000 - 0s - loss: 0.0340 - accuracy: 0.9050\n",
      "10000/10000 - 1s - loss: 0.0437 - accuracy: 0.8378\n",
      "4000/4000 - 0s - loss: 0.0350 - accuracy: 0.8982\n",
      "10000/10000 - 1s - loss: 0.0444 - accuracy: 0.8372\n",
      "4000/4000 - 0s - loss: 0.0340 - accuracy: 0.9080\n",
      "10000/10000 - 0s - loss: 0.0436 - accuracy: 0.8346\n",
      "4000/4000 - 0s - loss: 0.0342 - accuracy: 0.9043\n",
      "10000/10000 - 1s - loss: 0.0440 - accuracy: 0.8317\n",
      "4000/4000 - 0s - loss: 0.0353 - accuracy: 0.8992\n",
      "10000/10000 - 0s - loss: 0.0445 - accuracy: 0.8308\n",
      "4000/4000 - 0s - loss: 0.0347 - accuracy: 0.9028\n",
      "10000/10000 - 1s - loss: 0.0441 - accuracy: 0.8347\n",
      "4000/4000 - 0s - loss: 0.0340 - accuracy: 0.9003\n",
      "10000/10000 - 0s - loss: 0.0441 - accuracy: 0.8321\n",
      "4000/4000 - 0s - loss: 0.0347 - accuracy: 0.8963\n",
      "10000/10000 - 1s - loss: 0.0443 - accuracy: 0.8345\n",
      "4000/4000 - 0s - loss: 0.0336 - accuracy: 0.9053\n",
      "10000/10000 - 1s - loss: 0.0435 - accuracy: 0.8368\n",
      "4000/4000 - 0s - loss: 0.0328 - accuracy: 0.9028\n",
      "10000/10000 - 1s - loss: 0.0431 - accuracy: 0.8353\n"
     ]
    }
   ],
   "source": [
    "for net in networks:\n",
    "    train_loss, train_acc = net.get_network().evaluate(x_train,  y_train, verbose=2)\n",
    "    test_loss, test_acc = net.get_network().evaluate(x_test,  y_test, verbose=2)\n",
    "    train_score.append(train_loss)\n",
    "    test_score.append(test_loss)\n",
    "    train_accuracy.append(train_acc)\n",
    "    test_accuracy.append(test_acc)"
   ]
  },
  {
   "cell_type": "code",
   "execution_count": 20,
   "metadata": {},
   "outputs": [],
   "source": [
    "import numpy as np"
   ]
  },
  {
   "cell_type": "code",
   "execution_count": 21,
   "metadata": {},
   "outputs": [
    {
     "data": {
      "text/plain": [
       "<matplotlib.legend.Legend at 0x2b8c6ef1a860>"
      ]
     },
     "execution_count": 21,
     "metadata": {},
     "output_type": "execute_result"
    },
    {
     "data": {
      "image/png": "[encoded data removed]",
      "text/plain": [
       "<Figure size 432x288 with 1 Axes>"
      ]
     },
     "metadata": {
      "needs_background": "light"
     },
     "output_type": "display_data"
    }
   ],
   "source": [
    "plt.plot(np.array(parameter_size)/1000,train_score, label=\"Train\", marker='o')\n",
    "plt.plot(np.array(parameter_size)/1000,test_score, label=\"Test\", marker='o')\n",
    "plt.yscale(\"log\")\n",
    "plt.xscale(\"log\")\n",
    "plt.axvline(x=interpol_threshold/1000)\n",
    "plt.xticks(ticks=np.array(parameter_size)/1000, labels=[10,40,100,300,800])\n",
    "plt.legend()"
   ]
  },
  {
   "cell_type": "code",
   "execution_count": null,
   "metadata": {},
   "outputs": [],
   "source": []
  },
  {
   "cell_type": "code",
   "execution_count": 22,
   "metadata": {},
   "outputs": [
    {
     "data": {
      "text/plain": [
       "<matplotlib.legend.Legend at 0x2b8ba3f4cf60>"
      ]
     },
     "execution_count": 22,
     "metadata": {},
     "output_type": "execute_result"
    },
    {
     "data": {
      "image/png": "[encoded data removed]",
      "text/plain": [
       "<Figure size 432x288 with 1 Axes>"
      ]
     },
     "metadata": {
      "needs_background": "light"
     },
     "output_type": "display_data"
    }
   ],
   "source": [
    "plt.plot(np.array(parameter_size)/1000,train_score, label=\"Train\", marker='o')\n",
    "plt.plot(np.array(parameter_size)/1000,test_score, label=\"Test\", marker='o')\n",
    "plt.axvline(x=interpol_threshold/1000)\n",
    "plt.xticks(ticks=[10,40,100,300,800])\n",
    "plt.yscale(\"log\")\n",
    "plt.legend()"
   ]
  },
  {
   "cell_type": "markdown",
   "metadata": {},
   "source": [
    "Now we consider the zero-one loss function given by ,\n",
    "\n",
    "$$ l(y',y) = 1_{y'\\neq y} $$ "
   ]
  },
  {
   "cell_type": "code",
   "execution_count": 27,
   "metadata": {},
   "outputs": [],
   "source": [
    "indicator_net =[]\n",
    "sgd_optimizer = tf.keras.optimizers.SGD(learning_rate=lr_schedule)\n",
    "categorical_loss = tf.keras.losses.MeanSquaredError(name = \"train_loss\")"
   ]
  },
  {
   "cell_type": "code",
   "execution_count": 24,
   "metadata": {},
   "outputs": [],
   "source": [
    "@tf.function\n",
    "def zero_one_loss(y_pred,y_actual):\n",
    "    if y_pred == y_actual:\n",
    "        return 1.\n",
    "    else:\n",
    "        return 0."
   ]
  },
  {
   "cell_type": "code",
   "execution_count": 28,
   "metadata": {},
   "outputs": [
    {
     "name": "stdout",
     "output_type": "stream",
     "text": [
      "Completed 3000\n",
      "Completed 5000\n",
      "Completed 10000\n",
      "Completed 20000\n",
      "Completed 22000\n",
      "Completed 25000\n",
      "Completed 27000\n",
      "Completed 30000\n",
      "Completed 32000\n",
      "Completed 35000\n",
      "Completed 37000\n",
      "Completed 40000\n",
      "Completed 50000\n",
      "Completed 60000\n",
      "Completed 70000\n",
      "Completed 80000\n",
      "Completed 100000\n",
      "Completed 300000\n",
      "Completed 800000\n"
     ]
    }
   ],
   "source": [
    "for parameters in parameter_size:\n",
    "    #Custom initialization\n",
    "    units = tl.get_number_units(parameters, input_size = input_size, output_size = num_classes)\n",
    "    if units == 3000:\n",
    "        network = tf.keras.models.Sequential([\n",
    "        #We flatten the images to vector of size 784\n",
    "        tf.keras.layers.Flatten(input_shape=(28, 28)),\n",
    "        tf.keras.layers.Dense(units=units, activation = None),\n",
    "        tf.keras.layers.Dense(units=num_classes,  activation = None)\n",
    "        ])\n",
    "    elif units <= interpol_threshold and units > 3000 :\n",
    "        network = tf.keras.models.Sequential([\n",
    "        tf.keras.layers.Flatten(input_shape=(28, 28)),\n",
    "        tf.keras.layers.Dense(units=units, bias_initializer = tf.constant_initializer(tl.custom_bias(units,hidden_bias_wgts)),\n",
    "                              kernel_initializer = tf.constant_initializer(tl.custom_kernel(units,hidden_kernel_wgts)),  activation = None),\n",
    "        tf.keras.layers.Dense(units=num_classes, bias_initializer = tf.constant_initializer(tl.custom_bias(units,hidden_bias_wgts)),\n",
    "                              kernel_initializer = tf.constant_initializer(tl.custom_kernel(units,hidden_kernel_wgts)),  activation = None)])\n",
    "    else:\n",
    "        network = tf.keras.models.Sequential([\n",
    "        tf.keras.layers.Flatten(input_shape=(28, 28)),\n",
    "        tf.keras.layers.Dense(units=units, activation = None),\n",
    "        tf.keras.layers.Dense(units=num_classes,  activation = None)])\n",
    "    indicator_net.append(tl.Training(parameters, network))\n",
    "    #Training\n",
    "    indicator_net[-1].compile(optimizer =sgd_optimizer, loss = categorical_loss , metrics = ['accuracy'])\n",
    "    indicator_net[-1].fit(x=x_train, y=y_train, callbacks=[earlystop_callback], epochs=total_epochs, verbose = 0)\n",
    "    if units <= interpol_threshold:\n",
    "        hidden_kernel_wgts = indicator_net[-1].get_network().get_weights()[0]\n",
    "        hidden_bias_wgts = indicator_net[-1].get_network().get_weights()[1]\n",
    "        output_kernel_wgts = indicator_net[-1].get_network().get_weights()[2]\n",
    "        output_bias_wgts = indicator_net[-1].get_network().get_weights()[3]\n",
    "    print(\"Completed {}\".format(parameters))"
   ]
  },
  {
   "cell_type": "code",
   "execution_count": 29,
   "metadata": {},
   "outputs": [],
   "source": [
    "train_score = []\n",
    "test_score = []\n",
    "train_accuracy = []\n",
    "test_accuracy = []"
   ]
  },
  {
   "cell_type": "code",
   "execution_count": 30,
   "metadata": {},
   "outputs": [
    {
     "name": "stdout",
     "output_type": "stream",
     "text": [
      "4000/4000 - 0s - loss: nan - accuracy: 0.0983\n",
      "10000/10000 - 0s - loss: nan - accuracy: 0.0980\n",
      "4000/4000 - 0s - loss: nan - accuracy: 0.0983\n",
      "10000/10000 - 1s - loss: nan - accuracy: 0.0980\n",
      "4000/4000 - 0s - loss: nan - accuracy: 0.0983\n",
      "10000/10000 - 1s - loss: nan - accuracy: 0.0980\n",
      "4000/4000 - 0s - loss: nan - accuracy: 0.0983\n",
      "10000/10000 - 0s - loss: nan - accuracy: 0.0980\n",
      "4000/4000 - 0s - loss: nan - accuracy: 0.0983\n",
      "10000/10000 - 1s - loss: nan - accuracy: 0.0980\n",
      "4000/4000 - 0s - loss: nan - accuracy: 0.0983\n",
      "10000/10000 - 1s - loss: nan - accuracy: 0.0980\n",
      "4000/4000 - 0s - loss: nan - accuracy: 0.0983\n",
      "10000/10000 - 1s - loss: nan - accuracy: 0.0980\n",
      "4000/4000 - 0s - loss: nan - accuracy: 0.0983\n",
      "10000/10000 - 1s - loss: nan - accuracy: 0.0980\n",
      "4000/4000 - 0s - loss: nan - accuracy: 0.0983\n",
      "10000/10000 - 1s - loss: nan - accuracy: 0.0980\n",
      "4000/4000 - 0s - loss: nan - accuracy: 0.0983\n",
      "10000/10000 - 1s - loss: nan - accuracy: 0.0980\n",
      "4000/4000 - 0s - loss: nan - accuracy: 0.0983\n",
      "10000/10000 - 1s - loss: nan - accuracy: 0.0980\n",
      "4000/4000 - 0s - loss: nan - accuracy: 0.0983\n",
      "10000/10000 - 1s - loss: nan - accuracy: 0.0980\n",
      "4000/4000 - 0s - loss: nan - accuracy: 0.0983\n",
      "10000/10000 - 1s - loss: nan - accuracy: 0.0980\n",
      "4000/4000 - 0s - loss: nan - accuracy: 0.0983\n",
      "10000/10000 - 1s - loss: nan - accuracy: 0.0980\n",
      "4000/4000 - 0s - loss: nan - accuracy: 0.0983\n",
      "10000/10000 - 1s - loss: nan - accuracy: 0.0980\n",
      "4000/4000 - 0s - loss: nan - accuracy: 0.0983\n",
      "10000/10000 - 1s - loss: nan - accuracy: 0.0980\n",
      "4000/4000 - 0s - loss: nan - accuracy: 0.0983\n",
      "10000/10000 - 1s - loss: nan - accuracy: 0.0980\n",
      "4000/4000 - 0s - loss: nan - accuracy: 0.0983\n",
      "10000/10000 - 1s - loss: nan - accuracy: 0.0980\n",
      "4000/4000 - 0s - loss: nan - accuracy: 0.0983\n",
      "10000/10000 - 1s - loss: nan - accuracy: 0.0980\n"
     ]
    }
   ],
   "source": [
    "for net in indicator_net:\n",
    "    train_loss, train_acc = net.get_network().evaluate(x_train,  y_train, verbose=2)\n",
    "    test_loss, test_acc = net.get_network().evaluate(x_test,  y_test, verbose=2)\n",
    "    train_score.append(train_loss)\n",
    "    test_score.append(test_loss)\n",
    "    train_accuracy.append(train_acc)\n",
    "    test_accuracy.append(test_acc)"
   ]
  },
  {
   "cell_type": "code",
   "execution_count": null,
   "metadata": {},
   "outputs": [],
   "source": []
  }
 ],
 "metadata": {
  "kernelspec": {
   "display_name": "Python 3",
   "language": "python",
   "name": "python3"
  },
  "language_info": {
   "codemirror_mode": {
    "name": "ipython",
    "version": 3
   },
   "file_extension": ".py",
   "mimetype": "text/x-python",
   "name": "python",
   "nbconvert_exporter": "python",
   "pygments_lexer": "ipython3",
   "version": "3.6.8"
  }
 },
 "nbformat": 4,
 "nbformat_minor": 2
}
